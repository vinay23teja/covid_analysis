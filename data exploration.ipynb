{
 "cells": [
  {
   "cell_type": "markdown",
   "metadata": {},
   "source": [
    "## Main modules"
   ]
  },
  {
   "cell_type": "code",
   "execution_count": 263,
   "metadata": {},
   "outputs": [],
   "source": [
    "import pandas as pd\n",
    "import numpy as np"
   ]
  },
  {
   "cell_type": "markdown",
   "metadata": {},
   "source": [
    "## Plotting modules"
   ]
  },
  {
   "cell_type": "code",
   "execution_count": 264,
   "metadata": {},
   "outputs": [
    {
     "data": {
      "text/html": [
       "        <script type=\"text/javascript\">\n",
       "        window.PlotlyConfig = {MathJaxConfig: 'local'};\n",
       "        if (window.MathJax) {MathJax.Hub.Config({SVG: {font: \"STIX-Web\"}});}\n",
       "        if (typeof require !== 'undefined') {\n",
       "        require.undef(\"plotly\");\n",
       "        requirejs.config({\n",
       "            paths: {\n",
       "                'plotly': ['https://cdn.plot.ly/plotly-latest.min']\n",
       "            }\n",
       "        });\n",
       "        require(['plotly'], function(Plotly) {\n",
       "            window._Plotly = Plotly;\n",
       "        });\n",
       "        }\n",
       "        </script>\n",
       "        "
      ]
     },
     "metadata": {},
     "output_type": "display_data"
    }
   ],
   "source": [
    "import matplotlib.pyplot as plt\n",
    "\n",
    "import seaborn as sns\n",
    "color = sns.color_palette()\n",
    "%matplotlib inline\n",
    "\n",
    "import plotly.offline as py\n",
    "py.init_notebook_mode(connected=True)\n",
    "import plotly.graph_objs as go\n",
    "import plotly.tools as tls"
   ]
  },
  {
   "cell_type": "markdown",
   "metadata": {},
   "source": [
    "## Models modules"
   ]
  },
  {
   "cell_type": "code",
   "execution_count": 265,
   "metadata": {},
   "outputs": [],
   "source": [
    "from sklearn.svm import SVC\n",
    "from sklearn import preprocessing, linear_model, naive_bayes, metrics, svm\n",
    "\n",
    "import xgboost as xgb\n",
    "import catboost as cgb\n",
    "import lightgbm as lgb"
   ]
  },
  {
   "cell_type": "markdown",
   "metadata": {},
   "source": [
    "## Random variable modules"
   ]
  },
  {
   "cell_type": "code",
   "execution_count": 266,
   "metadata": {
    "collapsed": true
   },
   "outputs": [],
   "source": [
    "from scipy.stats import randint as sp_randint\n",
    "from scipy.stats import uniform as sp_uniform"
   ]
  },
  {
   "cell_type": "markdown",
   "metadata": {},
   "source": [
    "## Model helper modules"
   ]
  },
  {
   "cell_type": "code",
   "execution_count": 267,
   "metadata": {},
   "outputs": [],
   "source": [
    "import importlib\n",
    "from pathlib import Path\n",
    "\n",
    "from sklearn.model_selection import KFold,cross_val_score,train_test_split,RandomizedSearchCV,GridSearchCV\n",
    "from sklearn import decomposition, ensemble"
   ]
  },
  {
   "cell_type": "code",
   "execution_count": null,
   "metadata": {
    "collapsed": true
   },
   "outputs": [],
   "source": []
  },
  {
   "cell_type": "code",
   "execution_count": 268,
   "metadata": {},
   "outputs": [],
   "source": [
    "ecdc = pd.read_csv(\"current-data-on-the-geographic-distribution-of-covid-19-cases-worldwide.csv\")"
   ]
  },
  {
   "cell_type": "code",
   "execution_count": 269,
   "metadata": {
    "scrolled": true
   },
   "outputs": [
    {
     "data": {
      "text/html": [
       "<div>\n",
       "<style scoped>\n",
       "    .dataframe tbody tr th:only-of-type {\n",
       "        vertical-align: middle;\n",
       "    }\n",
       "\n",
       "    .dataframe tbody tr th {\n",
       "        vertical-align: top;\n",
       "    }\n",
       "\n",
       "    .dataframe thead th {\n",
       "        text-align: right;\n",
       "    }\n",
       "</style>\n",
       "<table border=\"1\" class=\"dataframe\">\n",
       "  <thead>\n",
       "    <tr style=\"text-align: right;\">\n",
       "      <th></th>\n",
       "      <th>daterep</th>\n",
       "      <th>day</th>\n",
       "      <th>month</th>\n",
       "      <th>year</th>\n",
       "      <th>cases</th>\n",
       "      <th>deaths</th>\n",
       "      <th>countriesandterritories</th>\n",
       "      <th>geoid</th>\n",
       "      <th>countryterritorycode</th>\n",
       "      <th>popdata2018</th>\n",
       "      <th>continentexp</th>\n",
       "    </tr>\n",
       "  </thead>\n",
       "  <tbody>\n",
       "    <tr>\n",
       "      <th>0</th>\n",
       "      <td>NaN</td>\n",
       "      <td>28</td>\n",
       "      <td>4</td>\n",
       "      <td>2020</td>\n",
       "      <td>172</td>\n",
       "      <td>0</td>\n",
       "      <td>Afghanistan</td>\n",
       "      <td>AF</td>\n",
       "      <td>AFG</td>\n",
       "      <td>37172386.0</td>\n",
       "      <td>Asia</td>\n",
       "    </tr>\n",
       "    <tr>\n",
       "      <th>1</th>\n",
       "      <td>NaN</td>\n",
       "      <td>27</td>\n",
       "      <td>4</td>\n",
       "      <td>2020</td>\n",
       "      <td>68</td>\n",
       "      <td>10</td>\n",
       "      <td>Afghanistan</td>\n",
       "      <td>AF</td>\n",
       "      <td>AFG</td>\n",
       "      <td>37172386.0</td>\n",
       "      <td>Asia</td>\n",
       "    </tr>\n",
       "    <tr>\n",
       "      <th>2</th>\n",
       "      <td>NaN</td>\n",
       "      <td>26</td>\n",
       "      <td>4</td>\n",
       "      <td>2020</td>\n",
       "      <td>112</td>\n",
       "      <td>4</td>\n",
       "      <td>Afghanistan</td>\n",
       "      <td>AF</td>\n",
       "      <td>AFG</td>\n",
       "      <td>37172386.0</td>\n",
       "      <td>Asia</td>\n",
       "    </tr>\n",
       "    <tr>\n",
       "      <th>3</th>\n",
       "      <td>NaN</td>\n",
       "      <td>25</td>\n",
       "      <td>4</td>\n",
       "      <td>2020</td>\n",
       "      <td>70</td>\n",
       "      <td>1</td>\n",
       "      <td>Afghanistan</td>\n",
       "      <td>AF</td>\n",
       "      <td>AFG</td>\n",
       "      <td>37172386.0</td>\n",
       "      <td>Asia</td>\n",
       "    </tr>\n",
       "    <tr>\n",
       "      <th>4</th>\n",
       "      <td>NaN</td>\n",
       "      <td>24</td>\n",
       "      <td>4</td>\n",
       "      <td>2020</td>\n",
       "      <td>105</td>\n",
       "      <td>2</td>\n",
       "      <td>Afghanistan</td>\n",
       "      <td>AF</td>\n",
       "      <td>AFG</td>\n",
       "      <td>37172386.0</td>\n",
       "      <td>Asia</td>\n",
       "    </tr>\n",
       "  </tbody>\n",
       "</table>\n",
       "</div>"
      ],
      "text/plain": [
       "   daterep  day  month  year  cases  deaths countriesandterritories geoid  \\\n",
       "0      NaN   28      4  2020    172       0             Afghanistan    AF   \n",
       "1      NaN   27      4  2020     68      10             Afghanistan    AF   \n",
       "2      NaN   26      4  2020    112       4             Afghanistan    AF   \n",
       "3      NaN   25      4  2020     70       1             Afghanistan    AF   \n",
       "4      NaN   24      4  2020    105       2             Afghanistan    AF   \n",
       "\n",
       "  countryterritorycode  popdata2018 continentexp  \n",
       "0                  AFG   37172386.0         Asia  \n",
       "1                  AFG   37172386.0         Asia  \n",
       "2                  AFG   37172386.0         Asia  \n",
       "3                  AFG   37172386.0         Asia  \n",
       "4                  AFG   37172386.0         Asia  "
      ]
     },
     "execution_count": 269,
     "metadata": {},
     "output_type": "execute_result"
    }
   ],
   "source": [
    "ecdc.head()"
   ]
  },
  {
   "cell_type": "markdown",
   "metadata": {},
   "source": [
    "## Using plotly"
   ]
  },
  {
   "cell_type": "code",
   "execution_count": 40,
   "metadata": {},
   "outputs": [
    {
     "data": {
      "application/vnd.plotly.v1+json": {
       "config": {
        "plotlyServerURL": "https://plot.ly"
       },
       "data": [
        {
         "type": "bar",
         "x": [
          "AD",
          "AE",
          "AF",
          "AG",
          "AI",
          "AL",
          "AM",
          "AO",
          "AR",
          "AT",
          "AU",
          "AW",
          "AZ",
          "BA",
          "BB",
          "BD",
          "BE",
          "BF",
          "BG",
          "BH",
          "BI",
          "BJ",
          "BM",
          "BN",
          "BO",
          "BQ",
          "BR",
          "BS",
          "BT",
          "BW",
          "BY",
          "BZ",
          "CA",
          "CD",
          "CF",
          "CG",
          "CH",
          "CI",
          "CL",
          "CM",
          "CN",
          "CO",
          "CR",
          "CU",
          "CV",
          "CW",
          "CY",
          "CZ",
          "DE",
          "DJ",
          "DK",
          "DM",
          "DO",
          "DZ",
          "EC",
          "EE",
          "EG",
          "EH",
          "EL",
          "ER",
          "ES",
          "ET",
          "FI",
          "FJ",
          "FK",
          "FO",
          "FR",
          "GA",
          "GD",
          "GE",
          "GG",
          "GH",
          "GI",
          "GL",
          "GM",
          "GN",
          "GQ",
          "GT",
          "GU",
          "GW",
          "GY",
          "HN",
          "HR",
          "HT",
          "HU",
          "ID",
          "IE",
          "IL",
          "IM",
          "IN",
          "IQ",
          "IR",
          "IS",
          "IT",
          "JE",
          "JM",
          "JO",
          "JP",
          "JPG11668",
          "KE",
          "KG",
          "KH",
          "KN",
          "KR",
          "KW",
          "KY",
          "KZ",
          "LA",
          "LB",
          "LC",
          "LI",
          "LK",
          "LR",
          "LT",
          "LU",
          "LV",
          "LY",
          "MA",
          "MC",
          "MD",
          "ME",
          "MG",
          "MK",
          "ML",
          "MM",
          "MN",
          "MP",
          "MR",
          "MS",
          "MT",
          "MU",
          "MV",
          "MW",
          "MX",
          "MY",
          "MZ",
          "NC",
          "NE",
          "NG",
          "NI",
          "NL",
          "NO",
          "NP",
          "NZ",
          "OM",
          "PA",
          "PE",
          "PF",
          "PG",
          "PH",
          "PK",
          "PL",
          "PR",
          "PS",
          "PT",
          "PY",
          "QA",
          "RO",
          "RS",
          "RU",
          "RW",
          "SA",
          "SC",
          "SD",
          "SE",
          "SG",
          "SI",
          "SK",
          "SL",
          "SM",
          "SN",
          "SO",
          "SR",
          "SS",
          "ST",
          "SV",
          "SX",
          "SY",
          "SZ",
          "TC",
          "TD",
          "TG",
          "TH",
          "TL",
          "TN",
          "TR",
          "TT",
          "TW",
          "TZ",
          "UA",
          "UG",
          "UK",
          "US",
          "UY",
          "UZ",
          "VA",
          "VC",
          "VE",
          "VG",
          "VI",
          "VN",
          "XK",
          "YE",
          "ZA",
          "ZM",
          "ZW"
         ],
         "y": [
          743,
          10839,
          1703,
          24,
          3,
          736,
          1867,
          27,
          3990,
          15256,
          6725,
          100,
          1678,
          1564,
          80,
          5913,
          46687,
          635,
          1363,
          2723,
          15,
          64,
          110,
          138,
          1014,
          6,
          66501,
          80,
          7,
          22,
          11289,
          18,
          48489,
          471,
          50,
          207,
          29081,
          1164,
          13813,
          1621,
          83938,
          5597,
          697,
          1389,
          109,
          16,
          822,
          7449,
          156337,
          1035,
          8698,
          16,
          6135,
          3517,
          23240,
          1647,
          4782,
          6,
          2534,
          39,
          209465,
          124,
          4695,
          18,
          13,
          187,
          128339,
          211,
          18,
          497,
          247,
          1550,
          141,
          11,
          10,
          1163,
          258,
          530,
          144,
          73,
          74,
          693,
          2039,
          76,
          2649,
          9096,
          19648,
          15466,
          308,
          29435,
          1847,
          91472,
          1792,
          199414,
          283,
          364,
          449,
          13576,
          696,
          363,
          708,
          122,
          15,
          10752,
          3288,
          70,
          2860,
          19,
          710,
          15,
          83,
          588,
          133,
          1449,
          3729,
          818,
          61,
          4120,
          95,
          3481,
          321,
          128,
          1399,
          408,
          146,
          38,
          14,
          7,
          11,
          450,
          334,
          214,
          36,
          15529,
          5820,
          76,
          18,
          701,
          1337,
          13,
          38245,
          7533,
          52,
          1124,
          2049,
          6021,
          28699,
          58,
          8,
          7777,
          14079,
          11902,
          1389,
          495,
          24027,
          230,
          11244,
          11339,
          8275,
          87147,
          207,
          18811,
          11,
          275,
          18926,
          14423,
          1407,
          1381,
          99,
          538,
          735,
          480,
          10,
          6,
          8,
          323,
          75,
          43,
          65,
          12,
          46,
          99,
          2938,
          24,
          967,
          112261,
          116,
          429,
          300,
          9009,
          79,
          157149,
          988451,
          620,
          1904,
          9,
          15,
          329,
          6,
          59,
          270,
          780,
          1,
          4793,
          89,
          32
         ]
        }
       ],
       "layout": {
        "template": {
         "data": {
          "bar": [
           {
            "error_x": {
             "color": "#2a3f5f"
            },
            "error_y": {
             "color": "#2a3f5f"
            },
            "marker": {
             "line": {
              "color": "#E5ECF6",
              "width": 0.5
             }
            },
            "type": "bar"
           }
          ],
          "barpolar": [
           {
            "marker": {
             "line": {
              "color": "#E5ECF6",
              "width": 0.5
             }
            },
            "type": "barpolar"
           }
          ],
          "carpet": [
           {
            "aaxis": {
             "endlinecolor": "#2a3f5f",
             "gridcolor": "white",
             "linecolor": "white",
             "minorgridcolor": "white",
             "startlinecolor": "#2a3f5f"
            },
            "baxis": {
             "endlinecolor": "#2a3f5f",
             "gridcolor": "white",
             "linecolor": "white",
             "minorgridcolor": "white",
             "startlinecolor": "#2a3f5f"
            },
            "type": "carpet"
           }
          ],
          "choropleth": [
           {
            "colorbar": {
             "outlinewidth": 0,
             "ticks": ""
            },
            "type": "choropleth"
           }
          ],
          "contour": [
           {
            "colorbar": {
             "outlinewidth": 0,
             "ticks": ""
            },
            "colorscale": [
             [
              0,
              "#0d0887"
             ],
             [
              0.1111111111111111,
              "#46039f"
             ],
             [
              0.2222222222222222,
              "#7201a8"
             ],
             [
              0.3333333333333333,
              "#9c179e"
             ],
             [
              0.4444444444444444,
              "#bd3786"
             ],
             [
              0.5555555555555556,
              "#d8576b"
             ],
             [
              0.6666666666666666,
              "#ed7953"
             ],
             [
              0.7777777777777778,
              "#fb9f3a"
             ],
             [
              0.8888888888888888,
              "#fdca26"
             ],
             [
              1,
              "#f0f921"
             ]
            ],
            "type": "contour"
           }
          ],
          "contourcarpet": [
           {
            "colorbar": {
             "outlinewidth": 0,
             "ticks": ""
            },
            "type": "contourcarpet"
           }
          ],
          "heatmap": [
           {
            "colorbar": {
             "outlinewidth": 0,
             "ticks": ""
            },
            "colorscale": [
             [
              0,
              "#0d0887"
             ],
             [
              0.1111111111111111,
              "#46039f"
             ],
             [
              0.2222222222222222,
              "#7201a8"
             ],
             [
              0.3333333333333333,
              "#9c179e"
             ],
             [
              0.4444444444444444,
              "#bd3786"
             ],
             [
              0.5555555555555556,
              "#d8576b"
             ],
             [
              0.6666666666666666,
              "#ed7953"
             ],
             [
              0.7777777777777778,
              "#fb9f3a"
             ],
             [
              0.8888888888888888,
              "#fdca26"
             ],
             [
              1,
              "#f0f921"
             ]
            ],
            "type": "heatmap"
           }
          ],
          "heatmapgl": [
           {
            "colorbar": {
             "outlinewidth": 0,
             "ticks": ""
            },
            "colorscale": [
             [
              0,
              "#0d0887"
             ],
             [
              0.1111111111111111,
              "#46039f"
             ],
             [
              0.2222222222222222,
              "#7201a8"
             ],
             [
              0.3333333333333333,
              "#9c179e"
             ],
             [
              0.4444444444444444,
              "#bd3786"
             ],
             [
              0.5555555555555556,
              "#d8576b"
             ],
             [
              0.6666666666666666,
              "#ed7953"
             ],
             [
              0.7777777777777778,
              "#fb9f3a"
             ],
             [
              0.8888888888888888,
              "#fdca26"
             ],
             [
              1,
              "#f0f921"
             ]
            ],
            "type": "heatmapgl"
           }
          ],
          "histogram": [
           {
            "marker": {
             "colorbar": {
              "outlinewidth": 0,
              "ticks": ""
             }
            },
            "type": "histogram"
           }
          ],
          "histogram2d": [
           {
            "colorbar": {
             "outlinewidth": 0,
             "ticks": ""
            },
            "colorscale": [
             [
              0,
              "#0d0887"
             ],
             [
              0.1111111111111111,
              "#46039f"
             ],
             [
              0.2222222222222222,
              "#7201a8"
             ],
             [
              0.3333333333333333,
              "#9c179e"
             ],
             [
              0.4444444444444444,
              "#bd3786"
             ],
             [
              0.5555555555555556,
              "#d8576b"
             ],
             [
              0.6666666666666666,
              "#ed7953"
             ],
             [
              0.7777777777777778,
              "#fb9f3a"
             ],
             [
              0.8888888888888888,
              "#fdca26"
             ],
             [
              1,
              "#f0f921"
             ]
            ],
            "type": "histogram2d"
           }
          ],
          "histogram2dcontour": [
           {
            "colorbar": {
             "outlinewidth": 0,
             "ticks": ""
            },
            "colorscale": [
             [
              0,
              "#0d0887"
             ],
             [
              0.1111111111111111,
              "#46039f"
             ],
             [
              0.2222222222222222,
              "#7201a8"
             ],
             [
              0.3333333333333333,
              "#9c179e"
             ],
             [
              0.4444444444444444,
              "#bd3786"
             ],
             [
              0.5555555555555556,
              "#d8576b"
             ],
             [
              0.6666666666666666,
              "#ed7953"
             ],
             [
              0.7777777777777778,
              "#fb9f3a"
             ],
             [
              0.8888888888888888,
              "#fdca26"
             ],
             [
              1,
              "#f0f921"
             ]
            ],
            "type": "histogram2dcontour"
           }
          ],
          "mesh3d": [
           {
            "colorbar": {
             "outlinewidth": 0,
             "ticks": ""
            },
            "type": "mesh3d"
           }
          ],
          "parcoords": [
           {
            "line": {
             "colorbar": {
              "outlinewidth": 0,
              "ticks": ""
             }
            },
            "type": "parcoords"
           }
          ],
          "pie": [
           {
            "automargin": true,
            "type": "pie"
           }
          ],
          "scatter": [
           {
            "marker": {
             "colorbar": {
              "outlinewidth": 0,
              "ticks": ""
             }
            },
            "type": "scatter"
           }
          ],
          "scatter3d": [
           {
            "line": {
             "colorbar": {
              "outlinewidth": 0,
              "ticks": ""
             }
            },
            "marker": {
             "colorbar": {
              "outlinewidth": 0,
              "ticks": ""
             }
            },
            "type": "scatter3d"
           }
          ],
          "scattercarpet": [
           {
            "marker": {
             "colorbar": {
              "outlinewidth": 0,
              "ticks": ""
             }
            },
            "type": "scattercarpet"
           }
          ],
          "scattergeo": [
           {
            "marker": {
             "colorbar": {
              "outlinewidth": 0,
              "ticks": ""
             }
            },
            "type": "scattergeo"
           }
          ],
          "scattergl": [
           {
            "marker": {
             "colorbar": {
              "outlinewidth": 0,
              "ticks": ""
             }
            },
            "type": "scattergl"
           }
          ],
          "scattermapbox": [
           {
            "marker": {
             "colorbar": {
              "outlinewidth": 0,
              "ticks": ""
             }
            },
            "type": "scattermapbox"
           }
          ],
          "scatterpolar": [
           {
            "marker": {
             "colorbar": {
              "outlinewidth": 0,
              "ticks": ""
             }
            },
            "type": "scatterpolar"
           }
          ],
          "scatterpolargl": [
           {
            "marker": {
             "colorbar": {
              "outlinewidth": 0,
              "ticks": ""
             }
            },
            "type": "scatterpolargl"
           }
          ],
          "scatterternary": [
           {
            "marker": {
             "colorbar": {
              "outlinewidth": 0,
              "ticks": ""
             }
            },
            "type": "scatterternary"
           }
          ],
          "surface": [
           {
            "colorbar": {
             "outlinewidth": 0,
             "ticks": ""
            },
            "colorscale": [
             [
              0,
              "#0d0887"
             ],
             [
              0.1111111111111111,
              "#46039f"
             ],
             [
              0.2222222222222222,
              "#7201a8"
             ],
             [
              0.3333333333333333,
              "#9c179e"
             ],
             [
              0.4444444444444444,
              "#bd3786"
             ],
             [
              0.5555555555555556,
              "#d8576b"
             ],
             [
              0.6666666666666666,
              "#ed7953"
             ],
             [
              0.7777777777777778,
              "#fb9f3a"
             ],
             [
              0.8888888888888888,
              "#fdca26"
             ],
             [
              1,
              "#f0f921"
             ]
            ],
            "type": "surface"
           }
          ],
          "table": [
           {
            "cells": {
             "fill": {
              "color": "#EBF0F8"
             },
             "line": {
              "color": "white"
             }
            },
            "header": {
             "fill": {
              "color": "#C8D4E3"
             },
             "line": {
              "color": "white"
             }
            },
            "type": "table"
           }
          ]
         },
         "layout": {
          "annotationdefaults": {
           "arrowcolor": "#2a3f5f",
           "arrowhead": 0,
           "arrowwidth": 1
          },
          "coloraxis": {
           "colorbar": {
            "outlinewidth": 0,
            "ticks": ""
           }
          },
          "colorscale": {
           "diverging": [
            [
             0,
             "#8e0152"
            ],
            [
             0.1,
             "#c51b7d"
            ],
            [
             0.2,
             "#de77ae"
            ],
            [
             0.3,
             "#f1b6da"
            ],
            [
             0.4,
             "#fde0ef"
            ],
            [
             0.5,
             "#f7f7f7"
            ],
            [
             0.6,
             "#e6f5d0"
            ],
            [
             0.7,
             "#b8e186"
            ],
            [
             0.8,
             "#7fbc41"
            ],
            [
             0.9,
             "#4d9221"
            ],
            [
             1,
             "#276419"
            ]
           ],
           "sequential": [
            [
             0,
             "#0d0887"
            ],
            [
             0.1111111111111111,
             "#46039f"
            ],
            [
             0.2222222222222222,
             "#7201a8"
            ],
            [
             0.3333333333333333,
             "#9c179e"
            ],
            [
             0.4444444444444444,
             "#bd3786"
            ],
            [
             0.5555555555555556,
             "#d8576b"
            ],
            [
             0.6666666666666666,
             "#ed7953"
            ],
            [
             0.7777777777777778,
             "#fb9f3a"
            ],
            [
             0.8888888888888888,
             "#fdca26"
            ],
            [
             1,
             "#f0f921"
            ]
           ],
           "sequentialminus": [
            [
             0,
             "#0d0887"
            ],
            [
             0.1111111111111111,
             "#46039f"
            ],
            [
             0.2222222222222222,
             "#7201a8"
            ],
            [
             0.3333333333333333,
             "#9c179e"
            ],
            [
             0.4444444444444444,
             "#bd3786"
            ],
            [
             0.5555555555555556,
             "#d8576b"
            ],
            [
             0.6666666666666666,
             "#ed7953"
            ],
            [
             0.7777777777777778,
             "#fb9f3a"
            ],
            [
             0.8888888888888888,
             "#fdca26"
            ],
            [
             1,
             "#f0f921"
            ]
           ]
          },
          "colorway": [
           "#636efa",
           "#EF553B",
           "#00cc96",
           "#ab63fa",
           "#FFA15A",
           "#19d3f3",
           "#FF6692",
           "#B6E880",
           "#FF97FF",
           "#FECB52"
          ],
          "font": {
           "color": "#2a3f5f"
          },
          "geo": {
           "bgcolor": "white",
           "lakecolor": "white",
           "landcolor": "#E5ECF6",
           "showlakes": true,
           "showland": true,
           "subunitcolor": "white"
          },
          "hoverlabel": {
           "align": "left"
          },
          "hovermode": "closest",
          "mapbox": {
           "style": "light"
          },
          "paper_bgcolor": "white",
          "plot_bgcolor": "#E5ECF6",
          "polar": {
           "angularaxis": {
            "gridcolor": "white",
            "linecolor": "white",
            "ticks": ""
           },
           "bgcolor": "#E5ECF6",
           "radialaxis": {
            "gridcolor": "white",
            "linecolor": "white",
            "ticks": ""
           }
          },
          "scene": {
           "xaxis": {
            "backgroundcolor": "#E5ECF6",
            "gridcolor": "white",
            "gridwidth": 2,
            "linecolor": "white",
            "showbackground": true,
            "ticks": "",
            "zerolinecolor": "white"
           },
           "yaxis": {
            "backgroundcolor": "#E5ECF6",
            "gridcolor": "white",
            "gridwidth": 2,
            "linecolor": "white",
            "showbackground": true,
            "ticks": "",
            "zerolinecolor": "white"
           },
           "zaxis": {
            "backgroundcolor": "#E5ECF6",
            "gridcolor": "white",
            "gridwidth": 2,
            "linecolor": "white",
            "showbackground": true,
            "ticks": "",
            "zerolinecolor": "white"
           }
          },
          "shapedefaults": {
           "line": {
            "color": "#2a3f5f"
           }
          },
          "ternary": {
           "aaxis": {
            "gridcolor": "white",
            "linecolor": "white",
            "ticks": ""
           },
           "baxis": {
            "gridcolor": "white",
            "linecolor": "white",
            "ticks": ""
           },
           "bgcolor": "#E5ECF6",
           "caxis": {
            "gridcolor": "white",
            "linecolor": "white",
            "ticks": ""
           }
          },
          "title": {
           "x": 0.05
          },
          "xaxis": {
           "automargin": true,
           "gridcolor": "white",
           "linecolor": "white",
           "ticks": "",
           "title": {
            "standoff": 15
           },
           "zerolinecolor": "white",
           "zerolinewidth": 2
          },
          "yaxis": {
           "automargin": true,
           "gridcolor": "white",
           "linecolor": "white",
           "ticks": "",
           "title": {
            "standoff": 15
           },
           "zerolinecolor": "white",
           "zerolinewidth": 2
          }
         }
        },
        "title": {
         "text": "Number of cases by GeoId"
        }
       }
      },
      "text/html": [
       "<div>\n",
       "        \n",
       "        \n",
       "            <div id=\"60bf0b52-9896-436e-a8dc-981991c96043\" class=\"plotly-graph-div\" style=\"height:525px; width:100%;\"></div>\n",
       "            <script type=\"text/javascript\">\n",
       "                require([\"plotly\"], function(Plotly) {\n",
       "                    window.PLOTLYENV=window.PLOTLYENV || {};\n",
       "                    \n",
       "                if (document.getElementById(\"60bf0b52-9896-436e-a8dc-981991c96043\")) {\n",
       "                    Plotly.newPlot(\n",
       "                        '60bf0b52-9896-436e-a8dc-981991c96043',\n",
       "                        [{\"type\": \"bar\", \"x\": [\"AD\", \"AE\", \"AF\", \"AG\", \"AI\", \"AL\", \"AM\", \"AO\", \"AR\", \"AT\", \"AU\", \"AW\", \"AZ\", \"BA\", \"BB\", \"BD\", \"BE\", \"BF\", \"BG\", \"BH\", \"BI\", \"BJ\", \"BM\", \"BN\", \"BO\", \"BQ\", \"BR\", \"BS\", \"BT\", \"BW\", \"BY\", \"BZ\", \"CA\", \"CD\", \"CF\", \"CG\", \"CH\", \"CI\", \"CL\", \"CM\", \"CN\", \"CO\", \"CR\", \"CU\", \"CV\", \"CW\", \"CY\", \"CZ\", \"DE\", \"DJ\", \"DK\", \"DM\", \"DO\", \"DZ\", \"EC\", \"EE\", \"EG\", \"EH\", \"EL\", \"ER\", \"ES\", \"ET\", \"FI\", \"FJ\", \"FK\", \"FO\", \"FR\", \"GA\", \"GD\", \"GE\", \"GG\", \"GH\", \"GI\", \"GL\", \"GM\", \"GN\", \"GQ\", \"GT\", \"GU\", \"GW\", \"GY\", \"HN\", \"HR\", \"HT\", \"HU\", \"ID\", \"IE\", \"IL\", \"IM\", \"IN\", \"IQ\", \"IR\", \"IS\", \"IT\", \"JE\", \"JM\", \"JO\", \"JP\", \"JPG11668\", \"KE\", \"KG\", \"KH\", \"KN\", \"KR\", \"KW\", \"KY\", \"KZ\", \"LA\", \"LB\", \"LC\", \"LI\", \"LK\", \"LR\", \"LT\", \"LU\", \"LV\", \"LY\", \"MA\", \"MC\", \"MD\", \"ME\", \"MG\", \"MK\", \"ML\", \"MM\", \"MN\", \"MP\", \"MR\", \"MS\", \"MT\", \"MU\", \"MV\", \"MW\", \"MX\", \"MY\", \"MZ\", \"NC\", \"NE\", \"NG\", \"NI\", \"NL\", \"NO\", \"NP\", \"NZ\", \"OM\", \"PA\", \"PE\", \"PF\", \"PG\", \"PH\", \"PK\", \"PL\", \"PR\", \"PS\", \"PT\", \"PY\", \"QA\", \"RO\", \"RS\", \"RU\", \"RW\", \"SA\", \"SC\", \"SD\", \"SE\", \"SG\", \"SI\", \"SK\", \"SL\", \"SM\", \"SN\", \"SO\", \"SR\", \"SS\", \"ST\", \"SV\", \"SX\", \"SY\", \"SZ\", \"TC\", \"TD\", \"TG\", \"TH\", \"TL\", \"TN\", \"TR\", \"TT\", \"TW\", \"TZ\", \"UA\", \"UG\", \"UK\", \"US\", \"UY\", \"UZ\", \"VA\", \"VC\", \"VE\", \"VG\", \"VI\", \"VN\", \"XK\", \"YE\", \"ZA\", \"ZM\", \"ZW\"], \"y\": [743, 10839, 1703, 24, 3, 736, 1867, 27, 3990, 15256, 6725, 100, 1678, 1564, 80, 5913, 46687, 635, 1363, 2723, 15, 64, 110, 138, 1014, 6, 66501, 80, 7, 22, 11289, 18, 48489, 471, 50, 207, 29081, 1164, 13813, 1621, 83938, 5597, 697, 1389, 109, 16, 822, 7449, 156337, 1035, 8698, 16, 6135, 3517, 23240, 1647, 4782, 6, 2534, 39, 209465, 124, 4695, 18, 13, 187, 128339, 211, 18, 497, 247, 1550, 141, 11, 10, 1163, 258, 530, 144, 73, 74, 693, 2039, 76, 2649, 9096, 19648, 15466, 308, 29435, 1847, 91472, 1792, 199414, 283, 364, 449, 13576, 696, 363, 708, 122, 15, 10752, 3288, 70, 2860, 19, 710, 15, 83, 588, 133, 1449, 3729, 818, 61, 4120, 95, 3481, 321, 128, 1399, 408, 146, 38, 14, 7, 11, 450, 334, 214, 36, 15529, 5820, 76, 18, 701, 1337, 13, 38245, 7533, 52, 1124, 2049, 6021, 28699, 58, 8, 7777, 14079, 11902, 1389, 495, 24027, 230, 11244, 11339, 8275, 87147, 207, 18811, 11, 275, 18926, 14423, 1407, 1381, 99, 538, 735, 480, 10, 6, 8, 323, 75, 43, 65, 12, 46, 99, 2938, 24, 967, 112261, 116, 429, 300, 9009, 79, 157149, 988451, 620, 1904, 9, 15, 329, 6, 59, 270, 780, 1, 4793, 89, 32]}],\n",
       "                        {\"template\": {\"data\": {\"bar\": [{\"error_x\": {\"color\": \"#2a3f5f\"}, \"error_y\": {\"color\": \"#2a3f5f\"}, \"marker\": {\"line\": {\"color\": \"#E5ECF6\", \"width\": 0.5}}, \"type\": \"bar\"}], \"barpolar\": [{\"marker\": {\"line\": {\"color\": \"#E5ECF6\", \"width\": 0.5}}, \"type\": \"barpolar\"}], \"carpet\": [{\"aaxis\": {\"endlinecolor\": \"#2a3f5f\", \"gridcolor\": \"white\", \"linecolor\": \"white\", \"minorgridcolor\": \"white\", \"startlinecolor\": \"#2a3f5f\"}, \"baxis\": {\"endlinecolor\": \"#2a3f5f\", \"gridcolor\": \"white\", \"linecolor\": \"white\", \"minorgridcolor\": \"white\", \"startlinecolor\": \"#2a3f5f\"}, \"type\": \"carpet\"}], \"choropleth\": [{\"colorbar\": {\"outlinewidth\": 0, \"ticks\": \"\"}, \"type\": \"choropleth\"}], \"contour\": [{\"colorbar\": {\"outlinewidth\": 0, \"ticks\": \"\"}, \"colorscale\": [[0.0, \"#0d0887\"], [0.1111111111111111, \"#46039f\"], [0.2222222222222222, \"#7201a8\"], [0.3333333333333333, \"#9c179e\"], [0.4444444444444444, \"#bd3786\"], [0.5555555555555556, \"#d8576b\"], [0.6666666666666666, \"#ed7953\"], [0.7777777777777778, \"#fb9f3a\"], [0.8888888888888888, \"#fdca26\"], [1.0, \"#f0f921\"]], \"type\": \"contour\"}], \"contourcarpet\": [{\"colorbar\": {\"outlinewidth\": 0, \"ticks\": \"\"}, \"type\": \"contourcarpet\"}], \"heatmap\": [{\"colorbar\": {\"outlinewidth\": 0, \"ticks\": \"\"}, \"colorscale\": [[0.0, \"#0d0887\"], [0.1111111111111111, \"#46039f\"], [0.2222222222222222, \"#7201a8\"], [0.3333333333333333, \"#9c179e\"], [0.4444444444444444, \"#bd3786\"], [0.5555555555555556, \"#d8576b\"], [0.6666666666666666, \"#ed7953\"], [0.7777777777777778, \"#fb9f3a\"], [0.8888888888888888, \"#fdca26\"], [1.0, \"#f0f921\"]], \"type\": \"heatmap\"}], \"heatmapgl\": [{\"colorbar\": {\"outlinewidth\": 0, \"ticks\": \"\"}, \"colorscale\": [[0.0, \"#0d0887\"], [0.1111111111111111, \"#46039f\"], [0.2222222222222222, \"#7201a8\"], [0.3333333333333333, \"#9c179e\"], [0.4444444444444444, \"#bd3786\"], [0.5555555555555556, \"#d8576b\"], [0.6666666666666666, \"#ed7953\"], [0.7777777777777778, \"#fb9f3a\"], [0.8888888888888888, \"#fdca26\"], [1.0, \"#f0f921\"]], \"type\": \"heatmapgl\"}], \"histogram\": [{\"marker\": {\"colorbar\": {\"outlinewidth\": 0, \"ticks\": \"\"}}, \"type\": \"histogram\"}], \"histogram2d\": [{\"colorbar\": {\"outlinewidth\": 0, \"ticks\": \"\"}, \"colorscale\": [[0.0, \"#0d0887\"], [0.1111111111111111, \"#46039f\"], [0.2222222222222222, \"#7201a8\"], [0.3333333333333333, \"#9c179e\"], [0.4444444444444444, \"#bd3786\"], [0.5555555555555556, \"#d8576b\"], [0.6666666666666666, \"#ed7953\"], [0.7777777777777778, \"#fb9f3a\"], [0.8888888888888888, \"#fdca26\"], [1.0, \"#f0f921\"]], \"type\": \"histogram2d\"}], \"histogram2dcontour\": [{\"colorbar\": {\"outlinewidth\": 0, \"ticks\": \"\"}, \"colorscale\": [[0.0, \"#0d0887\"], [0.1111111111111111, \"#46039f\"], [0.2222222222222222, \"#7201a8\"], [0.3333333333333333, \"#9c179e\"], [0.4444444444444444, \"#bd3786\"], [0.5555555555555556, \"#d8576b\"], [0.6666666666666666, \"#ed7953\"], [0.7777777777777778, \"#fb9f3a\"], [0.8888888888888888, \"#fdca26\"], [1.0, \"#f0f921\"]], \"type\": \"histogram2dcontour\"}], \"mesh3d\": [{\"colorbar\": {\"outlinewidth\": 0, \"ticks\": \"\"}, \"type\": \"mesh3d\"}], \"parcoords\": [{\"line\": {\"colorbar\": {\"outlinewidth\": 0, \"ticks\": \"\"}}, \"type\": \"parcoords\"}], \"pie\": [{\"automargin\": true, \"type\": \"pie\"}], \"scatter\": [{\"marker\": {\"colorbar\": {\"outlinewidth\": 0, \"ticks\": \"\"}}, \"type\": \"scatter\"}], \"scatter3d\": [{\"line\": {\"colorbar\": {\"outlinewidth\": 0, \"ticks\": \"\"}}, \"marker\": {\"colorbar\": {\"outlinewidth\": 0, \"ticks\": \"\"}}, \"type\": \"scatter3d\"}], \"scattercarpet\": [{\"marker\": {\"colorbar\": {\"outlinewidth\": 0, \"ticks\": \"\"}}, \"type\": \"scattercarpet\"}], \"scattergeo\": [{\"marker\": {\"colorbar\": {\"outlinewidth\": 0, \"ticks\": \"\"}}, \"type\": \"scattergeo\"}], \"scattergl\": [{\"marker\": {\"colorbar\": {\"outlinewidth\": 0, \"ticks\": \"\"}}, \"type\": \"scattergl\"}], \"scattermapbox\": [{\"marker\": {\"colorbar\": {\"outlinewidth\": 0, \"ticks\": \"\"}}, \"type\": \"scattermapbox\"}], \"scatterpolar\": [{\"marker\": {\"colorbar\": {\"outlinewidth\": 0, \"ticks\": \"\"}}, \"type\": \"scatterpolar\"}], \"scatterpolargl\": [{\"marker\": {\"colorbar\": {\"outlinewidth\": 0, \"ticks\": \"\"}}, \"type\": \"scatterpolargl\"}], \"scatterternary\": [{\"marker\": {\"colorbar\": {\"outlinewidth\": 0, \"ticks\": \"\"}}, \"type\": \"scatterternary\"}], \"surface\": [{\"colorbar\": {\"outlinewidth\": 0, \"ticks\": \"\"}, \"colorscale\": [[0.0, \"#0d0887\"], [0.1111111111111111, \"#46039f\"], [0.2222222222222222, \"#7201a8\"], [0.3333333333333333, \"#9c179e\"], [0.4444444444444444, \"#bd3786\"], [0.5555555555555556, \"#d8576b\"], [0.6666666666666666, \"#ed7953\"], [0.7777777777777778, \"#fb9f3a\"], [0.8888888888888888, \"#fdca26\"], [1.0, \"#f0f921\"]], \"type\": \"surface\"}], \"table\": [{\"cells\": {\"fill\": {\"color\": \"#EBF0F8\"}, \"line\": {\"color\": \"white\"}}, \"header\": {\"fill\": {\"color\": \"#C8D4E3\"}, \"line\": {\"color\": \"white\"}}, \"type\": \"table\"}]}, \"layout\": {\"annotationdefaults\": {\"arrowcolor\": \"#2a3f5f\", \"arrowhead\": 0, \"arrowwidth\": 1}, \"coloraxis\": {\"colorbar\": {\"outlinewidth\": 0, \"ticks\": \"\"}}, \"colorscale\": {\"diverging\": [[0, \"#8e0152\"], [0.1, \"#c51b7d\"], [0.2, \"#de77ae\"], [0.3, \"#f1b6da\"], [0.4, \"#fde0ef\"], [0.5, \"#f7f7f7\"], [0.6, \"#e6f5d0\"], [0.7, \"#b8e186\"], [0.8, \"#7fbc41\"], [0.9, \"#4d9221\"], [1, \"#276419\"]], \"sequential\": [[0.0, \"#0d0887\"], [0.1111111111111111, \"#46039f\"], [0.2222222222222222, \"#7201a8\"], [0.3333333333333333, \"#9c179e\"], [0.4444444444444444, \"#bd3786\"], [0.5555555555555556, \"#d8576b\"], [0.6666666666666666, \"#ed7953\"], [0.7777777777777778, \"#fb9f3a\"], [0.8888888888888888, \"#fdca26\"], [1.0, \"#f0f921\"]], \"sequentialminus\": [[0.0, \"#0d0887\"], [0.1111111111111111, \"#46039f\"], [0.2222222222222222, \"#7201a8\"], [0.3333333333333333, \"#9c179e\"], [0.4444444444444444, \"#bd3786\"], [0.5555555555555556, \"#d8576b\"], [0.6666666666666666, \"#ed7953\"], [0.7777777777777778, \"#fb9f3a\"], [0.8888888888888888, \"#fdca26\"], [1.0, \"#f0f921\"]]}, \"colorway\": [\"#636efa\", \"#EF553B\", \"#00cc96\", \"#ab63fa\", \"#FFA15A\", \"#19d3f3\", \"#FF6692\", \"#B6E880\", \"#FF97FF\", \"#FECB52\"], \"font\": {\"color\": \"#2a3f5f\"}, \"geo\": {\"bgcolor\": \"white\", \"lakecolor\": \"white\", \"landcolor\": \"#E5ECF6\", \"showlakes\": true, \"showland\": true, \"subunitcolor\": \"white\"}, \"hoverlabel\": {\"align\": \"left\"}, \"hovermode\": \"closest\", \"mapbox\": {\"style\": \"light\"}, \"paper_bgcolor\": \"white\", \"plot_bgcolor\": \"#E5ECF6\", \"polar\": {\"angularaxis\": {\"gridcolor\": \"white\", \"linecolor\": \"white\", \"ticks\": \"\"}, \"bgcolor\": \"#E5ECF6\", \"radialaxis\": {\"gridcolor\": \"white\", \"linecolor\": \"white\", \"ticks\": \"\"}}, \"scene\": {\"xaxis\": {\"backgroundcolor\": \"#E5ECF6\", \"gridcolor\": \"white\", \"gridwidth\": 2, \"linecolor\": \"white\", \"showbackground\": true, \"ticks\": \"\", \"zerolinecolor\": \"white\"}, \"yaxis\": {\"backgroundcolor\": \"#E5ECF6\", \"gridcolor\": \"white\", \"gridwidth\": 2, \"linecolor\": \"white\", \"showbackground\": true, \"ticks\": \"\", \"zerolinecolor\": \"white\"}, \"zaxis\": {\"backgroundcolor\": \"#E5ECF6\", \"gridcolor\": \"white\", \"gridwidth\": 2, \"linecolor\": \"white\", \"showbackground\": true, \"ticks\": \"\", \"zerolinecolor\": \"white\"}}, \"shapedefaults\": {\"line\": {\"color\": \"#2a3f5f\"}}, \"ternary\": {\"aaxis\": {\"gridcolor\": \"white\", \"linecolor\": \"white\", \"ticks\": \"\"}, \"baxis\": {\"gridcolor\": \"white\", \"linecolor\": \"white\", \"ticks\": \"\"}, \"bgcolor\": \"#E5ECF6\", \"caxis\": {\"gridcolor\": \"white\", \"linecolor\": \"white\", \"ticks\": \"\"}}, \"title\": {\"x\": 0.05}, \"xaxis\": {\"automargin\": true, \"gridcolor\": \"white\", \"linecolor\": \"white\", \"ticks\": \"\", \"title\": {\"standoff\": 15}, \"zerolinecolor\": \"white\", \"zerolinewidth\": 2}, \"yaxis\": {\"automargin\": true, \"gridcolor\": \"white\", \"linecolor\": \"white\", \"ticks\": \"\", \"title\": {\"standoff\": 15}, \"zerolinecolor\": \"white\", \"zerolinewidth\": 2}}}, \"title\": {\"text\": \"Number of cases by GeoId\"}},\n",
       "                        {\"responsive\": true}\n",
       "                    ).then(function(){\n",
       "                            \n",
       "var gd = document.getElementById('60bf0b52-9896-436e-a8dc-981991c96043');\n",
       "var x = new MutationObserver(function (mutations, observer) {{\n",
       "        var display = window.getComputedStyle(gd).display;\n",
       "        if (!display || display === 'none') {{\n",
       "            console.log([gd, 'removed!']);\n",
       "            Plotly.purge(gd);\n",
       "            observer.disconnect();\n",
       "        }}\n",
       "}});\n",
       "\n",
       "// Listen for the removal of the full notebook cells\n",
       "var notebookContainer = gd.closest('#notebook-container');\n",
       "if (notebookContainer) {{\n",
       "    x.observe(notebookContainer, {childList: true});\n",
       "}}\n",
       "\n",
       "// Listen for the clearing of the current output cell\n",
       "var outputEl = gd.closest('.output');\n",
       "if (outputEl) {{\n",
       "    x.observe(outputEl, {childList: true});\n",
       "}}\n",
       "\n",
       "                        })\n",
       "                };\n",
       "                });\n",
       "            </script>\n",
       "        </div>"
      ]
     },
     "metadata": {},
     "output_type": "display_data"
    }
   ],
   "source": [
    "fig = go.Figure(\n",
    "    data=[go.Bar(x =ecdc.groupby(\"geoid\").agg({\"cases\":\"sum\"}).index ,y=ecdc.groupby(\"geoid\").agg({\"cases\":\"sum\"})[\"cases\"])],\n",
    "    layout_title_text=\"Number of cases by GeoId\"\n",
    ")\n",
    "fig.show()"
   ]
  },
  {
   "cell_type": "code",
   "execution_count": 37,
   "metadata": {
    "scrolled": false
   },
   "outputs": [
    {
     "data": {
      "text/plain": [
       "Index(['AD', 'AE', 'AF', 'AG', 'AI', 'AL', 'AM', 'AO', 'AR', 'AT',\n",
       "       ...\n",
       "       'VC', 'VE', 'VG', 'VI', 'VN', 'XK', 'YE', 'ZA', 'ZM', 'ZW'],\n",
       "      dtype='object', name='geoid', length=206)"
      ]
     },
     "execution_count": 37,
     "metadata": {},
     "output_type": "execute_result"
    }
   ],
   "source": [
    "ecdc.groupby(\"geoid\").agg({\"cases\":\"sum\"}).index"
   ]
  },
  {
   "cell_type": "markdown",
   "metadata": {},
   "source": [
    "## Using matplotlib.pyplot"
   ]
  },
  {
   "cell_type": "code",
   "execution_count": 46,
   "metadata": {},
   "outputs": [
    {
     "data": {
      "image/png": "[encoded data removed]",
      "text/plain": [
       "<Figure size 432x288 with 1 Axes>"
      ]
     },
     "metadata": {},
     "output_type": "display_data"
    }
   ],
   "source": [
    "plt.scatter(ecdc.groupby(\"continentexp\").agg({\"cases\":\"sum\"}).index, ecdc.groupby(\"continentexp\").agg({\"cases\":\"sum\"})[\"cases\"])\n",
    "plt.show()"
   ]
  },
  {
   "cell_type": "code",
   "execution_count": 48,
   "metadata": {},
   "outputs": [
    {
     "data": {
      "image/png": "[encoded data removed]",
      "text/plain": [
       "<Figure size 432x288 with 1 Axes>"
      ]
     },
     "metadata": {},
     "output_type": "display_data"
    }
   ],
   "source": [
    "plt.bar(ecdc.groupby(\"continentexp\").agg({\"cases\":\"sum\"}).index, ecdc.groupby(\"continentexp\").agg({\"cases\":\"sum\"})[\"cases\"])\n",
    "plt.show()"
   ]
  },
  {
   "cell_type": "code",
   "execution_count": 60,
   "metadata": {
    "scrolled": true
   },
   "outputs": [
    {
     "data": {
      "image/png": "[encoded data removed]",
      "text/plain": [
       "<Figure size 432x288 with 1 Axes>"
      ]
     },
     "metadata": {},
     "output_type": "display_data"
    }
   ],
   "source": [
    "p1 = plt.bar(ecdc.groupby(\"continentexp\").agg({\"cases\":\"sum\"}).index, ecdc.groupby(\"continentexp\").agg({\"cases\":\"sum\"})[\"cases\"], color='r')\n",
    "p2 = plt.bar(ecdc.groupby(\"continentexp\").agg({\"deaths\":\"sum\"}).index, ecdc.groupby(\"continentexp\").agg({\"deaths\":\"sum\"})[\"deaths\"], bottom=ecdc.groupby(\"continentexp\").agg({\"cases\":\"sum\"})[\"cases\"], color='b')\n",
    "\n",
    "plt.ylim([0,1600000])\n",
    "plt.yticks(fontsize=14)\n",
    "plt.xlabel('test', fontsize=14)\n",
    "plt.legend((p1[0], p2[0]), (\"cases\", \"deaths\"), fontsize=12, ncol=2, framealpha=0, fancybox=True)\n",
    "plt.show()"
   ]
  },
  {
   "cell_type": "markdown",
   "metadata": {},
   "source": [
    "## Using sns for plotting"
   ]
  },
  {
   "cell_type": "code",
   "execution_count": 65,
   "metadata": {
    "scrolled": true
   },
   "outputs": [
    {
     "data": {
      "image/png": "[encoded data removed]",
      "text/plain": [
       "<Figure size 432x288 with 1 Axes>"
      ]
     },
     "metadata": {},
     "output_type": "display_data"
    }
   ],
   "source": [
    "sns.scatterplot(x=\"popdata2018\", y=\"cases\", hue=\"continentexp\", data=ecdc);"
   ]
  },
  {
   "cell_type": "code",
   "execution_count": 89,
   "metadata": {},
   "outputs": [
    {
     "data": {
      "image/png": "[encoded data removed]",
      "text/plain": [
       "<Figure size 432x288 with 1 Axes>"
      ]
     },
     "metadata": {},
     "output_type": "display_data"
    }
   ],
   "source": [
    "sns.kdeplot(ecdc[\"cases\"], label=\"bw: 0.1\");"
   ]
  },
  {
   "cell_type": "code",
   "execution_count": null,
   "metadata": {
    "collapsed": true
   },
   "outputs": [],
   "source": []
  },
  {
   "cell_type": "code",
   "execution_count": 174,
   "metadata": {},
   "outputs": [],
   "source": [
    "def data_explore(data):\n",
    "    num_list = data.select_dtypes(include=np.number).columns.tolist()\n",
    "    cat_list = data.select_dtypes(include=np.object).columns.tolist()\n",
    "    \n",
    "    for var in num_list:\n",
    "        if(sum(1*(data[var].isnull())) != len(data)):\n",
    "            plt.figure(var)\n",
    "            print(data[var].describe())\n",
    "            sns.kdeplot(data[var]);\n",
    "        \n",
    "    for var in cat_list:\n",
    "        if(sum(1*(data[var].isnull())) != len(data)):\n",
    "            plt.figure(var)\n",
    "            print(data[var].value_counts())\n",
    "            sns.countplot(data[var]);"
   ]
  },
  {
   "cell_type": "code",
   "execution_count": 175,
   "metadata": {
    "scrolled": true
   },
   "outputs": [
    {
     "name": "stdout",
     "output_type": "stream",
     "text": [
      "count    13623.000000\n",
      "mean        16.433972\n",
      "std          8.600193\n",
      "min          1.000000\n",
      "25%          9.000000\n",
      "50%         17.000000\n",
      "75%         24.000000\n",
      "max         31.000000\n",
      "Name: day, dtype: float64\n",
      "count    13623.000000\n",
      "mean         3.016002\n",
      "std          1.252996\n",
      "min          1.000000\n",
      "25%          2.000000\n",
      "50%          3.000000\n",
      "75%          4.000000\n",
      "max         12.000000\n",
      "Name: month, dtype: float64\n",
      "count    13623.000000\n",
      "mean      2019.995082\n",
      "std          0.069959\n",
      "min       2019.000000\n",
      "25%       2020.000000\n",
      "50%       2020.000000\n",
      "75%       2020.000000\n",
      "max       2020.000000\n",
      "Name: year, dtype: float64\n",
      "count    13623.000000\n",
      "mean       218.945019\n",
      "std       1554.359440\n",
      "min      -1430.000000\n",
      "25%          0.000000\n",
      "50%          1.000000\n",
      "75%         27.000000\n",
      "max      48529.000000\n",
      "Name: cases, dtype: float64\n",
      "count    13623.000000\n",
      "mean        15.429274\n",
      "std        119.405913\n",
      "min          0.000000\n",
      "25%          0.000000\n",
      "50%          0.000000\n",
      "75%          0.000000\n",
      "max       4928.000000\n",
      "Name: deaths, dtype: float64\n",
      "count    1.349700e+04\n",
      "mean     5.599081e+07\n",
      "std      1.852815e+08\n",
      "min      1.000000e+03\n",
      "25%      2.789533e+06\n",
      "50%      9.942334e+06\n",
      "75%      3.717239e+07\n",
      "max      1.392730e+09\n",
      "Name: popdata2018, dtype: float64\n",
      "Iran                                 120\n",
      "Russia                               120\n",
      "Denmark                              120\n",
      "Singapore                            120\n",
      "Germany                              120\n",
      "Australia                            120\n",
      "United_Kingdom                       120\n",
      "Switzerland                          120\n",
      "Canada                               120\n",
      "Japan                                120\n",
      "Italy                                120\n",
      "Netherlands                          120\n",
      "Iceland                              120\n",
      "Sweden                               120\n",
      "Brazil                               120\n",
      "South_Korea                          120\n",
      "Norway                               120\n",
      "Belgium                              120\n",
      "China                                120\n",
      "United_States_of_America             120\n",
      "Austria                              120\n",
      "France                               120\n",
      "Czechia                              120\n",
      "India                                119\n",
      "Bahrain                              119\n",
      "Malaysia                             119\n",
      "Spain                                119\n",
      "San_Marino                           119\n",
      "Greece                               118\n",
      "Ireland                              118\n",
      "                                    ... \n",
      "Grenada                               37\n",
      "Myanmar                               37\n",
      "Syria                                 37\n",
      "Aruba                                 37\n",
      "Dominica                              37\n",
      "Belize                                36\n",
      "CuraÃ§ao                              36\n",
      "Saint_Vincent_and_the_Grenadines      36\n",
      "Turks_and_Caicos_islands              35\n",
      "Libya                                 35\n",
      "United_States_Virgin_Islands          35\n",
      "Laos                                  35\n",
      "Saint_Kitts_and_Nevis                 34\n",
      "Mali                                  34\n",
      "Sint_Maarten                          34\n",
      "Guinea_Bissau                         33\n",
      "British_Virgin_Islands                33\n",
      "Anguilla                              33\n",
      "Puerto_Rico                           32\n",
      "Northern_Mariana_Islands              29\n",
      "Sierra_Leone                          28\n",
      "Burundi                               28\n",
      "Botswana                              28\n",
      "Bonaire, Saint Eustatius and Saba     27\n",
      "Malawi                                26\n",
      "Falkland_Islands_(Malvinas)           25\n",
      "South_Sudan                           23\n",
      "Sao_Tome_and_Principe                 20\n",
      "Yemen                                 19\n",
      "Western_Sahara                         3\n",
      "Name: countriesandterritories, Length: 207, dtype: int64\n"
     ]
    },
    {
     "name": "stderr",
     "output_type": "stream",
     "text": [
      "C:\\Users\\GadikatlaV\\AppData\\Local\\Continuum\\anaconda3\\lib\\site-packages\\statsmodels\\nonparametric\\kde.py:454: RuntimeWarning:\n",
      "\n",
      "invalid value encountered in greater\n",
      "\n",
      "C:\\Users\\GadikatlaV\\AppData\\Local\\Continuum\\anaconda3\\lib\\site-packages\\statsmodels\\nonparametric\\kde.py:454: RuntimeWarning:\n",
      "\n",
      "invalid value encountered in less\n",
      "\n"
     ]
    },
    {
     "name": "stdout",
     "output_type": "stream",
     "text": [
      "FR    120\n",
      "SE    120\n",
      "CN    120\n",
      "DE    120\n",
      "BR    120\n",
      "BE    120\n",
      "IS    120\n",
      "AU    120\n",
      "CH    120\n",
      "US    120\n",
      "IR    120\n",
      "SG    120\n",
      "NL    120\n",
      "UK    120\n",
      "CA    120\n",
      "AT    120\n",
      "JP    120\n",
      "RU    120\n",
      "IT    120\n",
      "KR    120\n",
      "NO    120\n",
      "DK    120\n",
      "CZ    120\n",
      "IN    119\n",
      "MY    119\n",
      "ES    119\n",
      "SM    119\n",
      "BH    119\n",
      "RO    118\n",
      "IE    118\n",
      "     ... \n",
      "DM     37\n",
      "SY     37\n",
      "AW     37\n",
      "GD     37\n",
      "MZ     37\n",
      "VC     36\n",
      "BZ     36\n",
      "CW     36\n",
      "TC     35\n",
      "VI     35\n",
      "LY     35\n",
      "LA     35\n",
      "ML     34\n",
      "SX     34\n",
      "KN     34\n",
      "GW     33\n",
      "AI     33\n",
      "VG     33\n",
      "PR     32\n",
      "MP     29\n",
      "BI     28\n",
      "SL     28\n",
      "BW     28\n",
      "BQ     27\n",
      "MW     26\n",
      "FK     25\n",
      "SS     23\n",
      "ST     20\n",
      "YE     19\n",
      "EH      3\n",
      "Name: geoid, Length: 206, dtype: int64\n",
      "JPN    120\n",
      "ISL    120\n",
      "AUS    120\n",
      "DEU    120\n",
      "CHN    120\n",
      "SGP    120\n",
      "FRA    120\n",
      "SWE    120\n",
      "CHE    120\n",
      "BEL    120\n",
      "GBR    120\n",
      "ITA    120\n",
      "CZE    120\n",
      "RUS    120\n",
      "BRA    120\n",
      "USA    120\n",
      "NOR    120\n",
      "CAN    120\n",
      "NLD    120\n",
      "AUT    120\n",
      "KOR    120\n",
      "DNK    120\n",
      "IRN    120\n",
      "BHR    119\n",
      "ESP    119\n",
      "IND    119\n",
      "MYS    119\n",
      "SMR    119\n",
      "IRL    118\n",
      "GRC    118\n",
      "      ... \n",
      "ERI     38\n",
      "TLS     38\n",
      "UGA     38\n",
      "ABW     37\n",
      "MMR     37\n",
      "GRD     37\n",
      "SYR     37\n",
      "DMA     37\n",
      "MOZ     37\n",
      "VCT     36\n",
      "CUW     36\n",
      "BLZ     36\n",
      "LAO     35\n",
      "VIR     35\n",
      "TCA     35\n",
      "LBY     35\n",
      "MLI     34\n",
      "KNA     34\n",
      "SXM     34\n",
      "GNB     33\n",
      "VGB     33\n",
      "PRI     32\n",
      "MNP     29\n",
      "BWA     28\n",
      "SLE     28\n",
      "BDI     28\n",
      "MWI     26\n",
      "SSD     23\n",
      "STP     20\n",
      "YEM     19\n",
      "Name: countryterritorycode, Length: 202, dtype: int64\n",
      "Europe     4657\n",
      "Asia       3627\n",
      "America    2465\n",
      "Africa     2350\n",
      "Oceania     460\n",
      "Other        64\n",
      "Name: continentexp, dtype: int64\n"
     ]
    },
    {
     "data": {
      "image/png": "[encoded data removed]",
      "text/plain": [
       "<Figure size 432x288 with 1 Axes>"
      ]
     },
     "metadata": {},
     "output_type": "display_data"
    },
    {
     "data": {
      "image/png": "[encoded data removed]",
      "text/plain": [
       "<Figure size 432x288 with 1 Axes>"
      ]
     },
     "metadata": {},
     "output_type": "display_data"
    },
    {
     "data": {
      "image/png": "[encoded data removed]",
      "text/plain": [
       "<Figure size 432x288 with 1 Axes>"
      ]
     },
     "metadata": {},
     "output_type": "display_data"
    },
    {
     "data": {
      "image/png": "[encoded data removed]",
      "text/plain": [
       "<Figure size 432x288 with 1 Axes>"
      ]
     },
     "metadata": {},
     "output_type": "display_data"
    },
    {
     "data": {
      "image/png": "[encoded data removed]",
      "text/plain": [
       "<Figure size 432x288 with 1 Axes>"
      ]
     },
     "metadata": {},
     "output_type": "display_data"
    },
    {
     "data": {
      "image/png": "[encoded data removed]",
      "text/plain": [
       "<Figure size 432x288 with 1 Axes>"
      ]
     },
     "metadata": {},
     "output_type": "display_data"
    },
    {
     "data": {
      "image/png": "[encoded data removed]",
      "text/plain": [
       "<Figure size 432x288 with 1 Axes>"
      ]
     },
     "metadata": {},
     "output_type": "display_data"
    },
    {
     "data": {
      "image/png": "[encoded data removed]",
      "text/plain": [
       "<Figure size 432x288 with 1 Axes>"
      ]
     },
     "metadata": {},
     "output_type": "display_data"
    },
    {
     "data": {
      "image/png": "[encoded data removed]",
      "text/plain": [
       "<Figure size 432x288 with 1 Axes>"
      ]
     },
     "metadata": {},
     "output_type": "display_data"
    },
    {
     "data": {
      "image/png": "[encoded data removed]",
      "text/plain": [
       "<Figure size 432x288 with 1 Axes>"
      ]
     },
     "metadata": {},
     "output_type": "display_data"
    }
   ],
   "source": [
    "data_explore(ecdc)"
   ]
  },
  {
   "cell_type": "markdown",
   "metadata": {},
   "source": [
    "## Data engineering"
   ]
  },
  {
   "cell_type": "code",
   "execution_count": 270,
   "metadata": {
    "collapsed": true
   },
   "outputs": [],
   "source": [
    "ecdc_y = ecdc[\"cases\"].values"
   ]
  },
  {
   "cell_type": "code",
   "execution_count": 271,
   "metadata": {
    "collapsed": true
   },
   "outputs": [],
   "source": [
    "cat_list = ecdc.select_dtypes(include=np.object).columns.tolist()"
   ]
  },
  {
   "cell_type": "code",
   "execution_count": 272,
   "metadata": {},
   "outputs": [],
   "source": [
    "ecdc_dummies = pd.get_dummies(ecdc[['geoid', 'countryterritorycode', 'continentexp']])"
   ]
  },
  {
   "cell_type": "code",
   "execution_count": 273,
   "metadata": {},
   "outputs": [],
   "source": [
    "ecdc.drop(cat_list, axis = 1, inplace = True)"
   ]
  },
  {
   "cell_type": "code",
   "execution_count": 274,
   "metadata": {
    "collapsed": true
   },
   "outputs": [],
   "source": [
    "ecdc = pd.concat([ecdc,ecdc_dummies], axis = 1)"
   ]
  },
  {
   "cell_type": "code",
   "execution_count": 275,
   "metadata": {
    "scrolled": true
   },
   "outputs": [
    {
     "data": {
      "text/plain": [
       "(13623, 421)"
      ]
     },
     "execution_count": 275,
     "metadata": {},
     "output_type": "execute_result"
    }
   ],
   "source": [
    "ecdc.shape"
   ]
  },
  {
   "cell_type": "code",
   "execution_count": 276,
   "metadata": {},
   "outputs": [],
   "source": [
    "ecdc_x = ecdc.drop([\"cases\",\"deaths\"],axis = 1)"
   ]
  },
  {
   "cell_type": "code",
   "execution_count": 285,
   "metadata": {
    "collapsed": true
   },
   "outputs": [],
   "source": [
    "req_list = ecdc_x.columns"
   ]
  },
  {
   "cell_type": "code",
   "execution_count": 286,
   "metadata": {
    "collapsed": true
   },
   "outputs": [],
   "source": [
    "target = \"cases\""
   ]
  },
  {
   "cell_type": "code",
   "execution_count": 277,
   "metadata": {},
   "outputs": [
    {
     "data": {
      "text/plain": [
       "array([172,  68, 112, ...,   0,   1,   1], dtype=int64)"
      ]
     },
     "execution_count": 277,
     "metadata": {},
     "output_type": "execute_result"
    }
   ],
   "source": [
    "ecdc_y"
   ]
  },
  {
   "cell_type": "code",
   "execution_count": 278,
   "metadata": {},
   "outputs": [
    {
     "data": {
      "text/plain": [
       "['countriesandterritories', 'geoid', 'countryterritorycode', 'continentexp']"
      ]
     },
     "execution_count": 278,
     "metadata": {},
     "output_type": "execute_result"
    }
   ],
   "source": [
    "cat_list"
   ]
  },
  {
   "cell_type": "code",
   "execution_count": 279,
   "metadata": {
    "collapsed": true
   },
   "outputs": [],
   "source": [
    "## remove countriesandterritories in dummy list"
   ]
  },
  {
   "cell_type": "markdown",
   "metadata": {},
   "source": [
    "## LGB model"
   ]
  },
  {
   "cell_type": "code",
   "execution_count": 280,
   "metadata": {
    "collapsed": true
   },
   "outputs": [],
   "source": [
    "lgbh = lgb.LGBMRegressor(n_estimators = 100, metric = 'rmse')"
   ]
  },
  {
   "cell_type": "code",
   "execution_count": 281,
   "metadata": {},
   "outputs": [
    {
     "data": {
      "text/plain": [
       "LGBMRegressor(boosting_type='gbdt', class_weight=None, colsample_bytree=1.0,\n",
       "       importance_type='split', learning_rate=0.1, max_depth=-1,\n",
       "       metric='rmse', min_child_samples=20, min_child_weight=0.001,\n",
       "       min_split_gain=0.0, n_estimators=100, n_jobs=-1, num_leaves=31,\n",
       "       objective=None, random_state=None, reg_alpha=0.0, reg_lambda=0.0,\n",
       "       silent=True, subsample=1.0, subsample_for_bin=200000,\n",
       "       subsample_freq=0)"
      ]
     },
     "execution_count": 281,
     "metadata": {},
     "output_type": "execute_result"
    }
   ],
   "source": [
    "lgbh.fit(ecdc_x,ecdc_y)"
   ]
  },
  {
   "cell_type": "code",
   "execution_count": 282,
   "metadata": {},
   "outputs": [],
   "source": [
    "y_pred = lgbh.predict(ecdc_x)"
   ]
  },
  {
   "cell_type": "code",
   "execution_count": 283,
   "metadata": {
    "scrolled": true
   },
   "outputs": [
    {
     "data": {
      "text/plain": [
       "array([[ 1.        ,  0.96389435],\n",
       "       [ 0.96389435,  1.        ]])"
      ]
     },
     "execution_count": 283,
     "metadata": {},
     "output_type": "execute_result"
    }
   ],
   "source": [
    "np.corrcoef(y_pred, ecdc_y)"
   ]
  },
  {
   "cell_type": "code",
   "execution_count": 320,
   "metadata": {},
   "outputs": [],
   "source": [
    "def modelfit(alg, dtrain, predictors,useTrainCV=True, cv_folds=5, early_stopping_rounds=50):\n",
    "    \n",
    "    if useTrainCV:\n",
    "        lgb_param = alg.get_params()\n",
    "        lgtrain = lgb.Dataset(ecdc,label=ecdc_y)\n",
    "        cvresult = lgb.cv(lgb_param, lgtrain, num_boost_round=alg.get_params()['n_estimators'], nfold=cv_folds,\n",
    "            metrics='rmse', early_stopping_rounds=early_stopping_rounds)\n",
    "        print(pd.DataFrame(cvresult))\n",
    "        alg.set_params(n_estimators=pd.DataFrame(cvresult).shape[0])\n",
    "    \n",
    "\n",
    "    #Fit the algorithm on the data\n",
    "    alg.fit(dtrain[predictors], dtrain[target],eval_metric='rmse')\n",
    "        \n",
    "    #Predict training set:\n",
    "    dtrain_predictions = alg.predict(dtrain[predictors])\n",
    "        \n",
    "    #Print model report:\n",
    "    print('\\nModel Report')\n",
    "    print(\"R2 (Train):\",metrics.r2_score(dtrain[target], dtrain_predictions))\n",
    "                    \n",
    "    feat_imp = pd.DataFrame(sorted(zip(alg.feature_importances_,ecdc_x.columns)),columns = [\"Value\",\"Feature\"])\n",
    "    print(feat_imp)\n",
    "    \n",
    "    plt.figure(figsize = (20,10))\n",
    "    sns.barplot(x= \"Value\", y=\"Feature\", data = feat_imp.sort_values(by = \"Value\", ascending = False) )\n",
    "    plt.title('LightGBM Features (average over folds)')\n",
    "    plt.tight_layout()\n",
    "    plt.show()"
   ]
  },
  {
   "cell_type": "code",
   "execution_count": 321,
   "metadata": {
    "scrolled": true
   },
   "outputs": [
    {
     "name": "stderr",
     "output_type": "stream",
     "text": [
      "C:\\Users\\GadikatlaV\\AppData\\Local\\Continuum\\anaconda3\\lib\\site-packages\\lightgbm\\engine.py:503: UserWarning:\n",
      "\n",
      "Found `n_estimators` in params. Will use it instead of argument\n",
      "\n",
      "C:\\Users\\GadikatlaV\\AppData\\Local\\Continuum\\anaconda3\\lib\\site-packages\\lightgbm\\basic.py:842: UserWarning:\n",
      "\n",
      "silent keyword has been found in `params` and will be ignored.\n",
      "Please use silent argument of the Dataset constructor to pass this parameter.\n",
      "\n",
      "C:\\Users\\GadikatlaV\\AppData\\Local\\Continuum\\anaconda3\\lib\\site-packages\\sklearn\\model_selection\\_split.py:605: Warning:\n",
      "\n",
      "The least populated class in y has only 1 members, which is too few. The minimum number of members in any class cannot be less than n_splits=5.\n",
      "\n"
     ]
    },
    {
     "name": "stdout",
     "output_type": "stream",
     "text": [
      "     rmse-mean    rmse-stdv\n",
      "0   801.061182  1123.370576\n",
      "1   773.421361  1116.005533\n",
      "2   748.799446  1109.784623\n",
      "3   726.816088  1104.545391\n",
      "4   707.159914  1100.158242\n",
      "5   689.589534  1096.455593\n",
      "6   673.996359  1093.573404\n",
      "7   659.997855  1090.982986\n",
      "8   647.842657  1089.583607\n",
      "9   636.416776  1087.341705\n",
      "10  626.641554  1086.386646\n",
      "11  617.348441  1084.532883\n",
      "12  609.054703  1082.927225\n",
      "13  601.865010  1082.084051\n",
      "14  595.153788  1080.808210\n",
      "15  589.308226  1080.095169\n",
      "16  583.783953  1078.919583\n",
      "17  579.273777  1078.174732\n",
      "18  574.820780  1077.114257\n",
      "19  571.684613  1076.239769\n",
      "20  568.082557  1075.278933\n",
      "21  565.061120  1074.756566\n",
      "22  562.194383  1073.904960\n",
      "23  559.743939  1073.402440\n",
      "24  558.258411  1072.514022\n",
      "25  556.288394  1072.017094\n",
      "26  554.490029  1071.500318\n",
      "27  552.890630  1071.020668\n",
      "28  551.496197  1070.481316\n",
      "29  550.194299  1070.021371\n",
      "..         ...          ...\n",
      "64  539.522659  1060.186381\n",
      "65  539.941090  1060.864860\n",
      "66  539.741720  1060.561745\n",
      "67  539.637702  1060.254923\n",
      "68  539.392357  1060.001974\n",
      "69  539.316541  1059.757252\n",
      "70  539.574934  1060.523588\n",
      "71  539.545192  1060.168927\n",
      "72  539.317704  1059.948786\n",
      "73  539.064173  1059.702384\n",
      "74  538.922937  1059.471159\n",
      "75  539.063829  1059.061162\n",
      "76  539.311688  1059.828581\n",
      "77  539.215566  1059.529159\n",
      "78  539.053139  1059.296627\n",
      "79  539.252853  1058.860992\n",
      "80  539.537705  1059.584382\n",
      "81  539.725095  1059.135046\n",
      "82  539.518679  1058.918585\n",
      "83  539.477156  1058.609458\n",
      "84  539.276096  1058.427051\n",
      "85  539.247614  1058.155637\n",
      "86  539.524642  1058.886911\n",
      "87  539.294395  1058.673867\n",
      "88  539.101770  1058.454155\n",
      "89  539.444786  1059.129755\n",
      "90  539.242258  1058.894557\n",
      "91  539.168967  1058.609848\n",
      "92  538.980830  1058.413100\n",
      "93  538.918913  1058.214506\n",
      "\n",
      "[94 rows x 2 columns]\n",
      "\n",
      "Model Report\n",
      "R2 (Train): 0.928019160818\n",
      "     Value                   Feature\n",
      "0        0      continentexp_Oceania\n",
      "1        0        continentexp_Other\n",
      "2        0  countryterritorycode_ABW\n",
      "3        0  countryterritorycode_AFG\n",
      "4        0  countryterritorycode_AGO\n",
      "5        0  countryterritorycode_ALB\n",
      "6        0  countryterritorycode_AND\n",
      "7        0  countryterritorycode_ARE\n",
      "8        0  countryterritorycode_ARG\n",
      "9        0  countryterritorycode_ARM\n",
      "10       0  countryterritorycode_ATG\n",
      "11       0  countryterritorycode_AUS\n",
      "12       0  countryterritorycode_AUT\n",
      "13       0  countryterritorycode_AZE\n",
      "14       0  countryterritorycode_BDI\n",
      "15       0  countryterritorycode_BEL\n",
      "16       0  countryterritorycode_BEN\n",
      "17       0  countryterritorycode_BFA\n",
      "18       0  countryterritorycode_BGD\n",
      "19       0  countryterritorycode_BGR\n",
      "20       0  countryterritorycode_BHR\n",
      "21       0  countryterritorycode_BHS\n",
      "22       0  countryterritorycode_BIH\n",
      "23       0  countryterritorycode_BLR\n",
      "24       0  countryterritorycode_BLZ\n",
      "25       0  countryterritorycode_BMU\n",
      "26       0  countryterritorycode_BOL\n",
      "27       0  countryterritorycode_BRA\n",
      "28       0  countryterritorycode_BRB\n",
      "29       0  countryterritorycode_BRN\n",
      "..     ...                       ...\n",
      "389     13                  geoid_HU\n",
      "390     15                  geoid_IE\n",
      "391     15                  geoid_QA\n",
      "392     15                  geoid_SG\n",
      "393     16       continentexp_Africa\n",
      "394     16                  geoid_PT\n",
      "395     17                  geoid_CH\n",
      "396     18                  geoid_CL\n",
      "397     18                  geoid_FR\n",
      "398     18                  geoid_IL\n",
      "399     18                  geoid_NL\n",
      "400     19                  geoid_BR\n",
      "401     20                  geoid_PE\n",
      "402     20                  geoid_SA\n",
      "403     23                  geoid_BE\n",
      "404     24                  geoid_RU\n",
      "405     26                  geoid_EC\n",
      "406     28                  geoid_IT\n",
      "407     29                  geoid_CA\n",
      "408     29                  geoid_UK\n",
      "409     31         continentexp_Asia\n",
      "410     31                  geoid_DE\n",
      "411     38                  geoid_ES\n",
      "412     43                  geoid_IR\n",
      "413     71                  geoid_TR\n",
      "414     81       continentexp_Europe\n",
      "415     95                  geoid_US\n",
      "416    495               popdata2018\n",
      "417    529                       day\n",
      "418    750                     month\n",
      "\n",
      "[419 rows x 2 columns]\n"
     ]
    },
    {
     "data": {
      "image/png": "[encoded data removed]",
      "text/plain": [
       "<Figure size 1440x720 with 1 Axes>"
      ]
     },
     "metadata": {},
     "output_type": "display_data"
    }
   ],
   "source": [
    "modelfit(lgbh, ecdc, req_list)"
   ]
  },
  {
   "cell_type": "code",
   "execution_count": 292,
   "metadata": {},
   "outputs": [
    {
     "ename": "NameError",
     "evalue": "name 'cvresult' is not defined",
     "output_type": "error",
     "traceback": [
      "\u001b[1;31m---------------------------------------------------------------------------\u001b[0m",
      "\u001b[1;31mNameError\u001b[0m                                 Traceback (most recent call last)",
      "\u001b[1;32m<ipython-input-292-238c3e6131de>\u001b[0m in \u001b[0;36m<module>\u001b[1;34m()\u001b[0m\n\u001b[1;32m----> 1\u001b[1;33m \u001b[0mcvresult\u001b[0m\u001b[1;33m\u001b[0m\u001b[0m\n\u001b[0m",
      "\u001b[1;31mNameError\u001b[0m: name 'cvresult' is not defined"
     ]
    }
   ],
   "source": [
    "cvresult"
   ]
  },
  {
   "cell_type": "code",
   "execution_count": 323,
   "metadata": {
    "collapsed": true
   },
   "outputs": [],
   "source": [
    "param_test1 = {\n",
    " 'max_depth':[4,6,8],\n",
    " 'min_child_weight':[1,3,5]\n",
    "}\n"
   ]
  },
  {
   "cell_type": "code",
   "execution_count": 325,
   "metadata": {},
   "outputs": [],
   "source": [
    "gsearch1 = GridSearchCV(estimator = lgb.LGBMRegressor(earning_rate =0.1, n_estimators=100, max_depth=5,\n",
    "                                                  min_child_weight=1, subsample=0.8, colsample_bytree=0.8,\n",
    "                                                  objective='regression', seed=0), \n",
    "                        param_grid = param_test1, scoring='r2',n_jobs=4,iid=False, cv=5)\n"
   ]
  },
  {
   "cell_type": "code",
   "execution_count": 326,
   "metadata": {},
   "outputs": [
    {
     "name": "stderr",
     "output_type": "stream",
     "text": [
      "C:\\Users\\GadikatlaV\\AppData\\Local\\Continuum\\anaconda3\\lib\\site-packages\\sklearn\\model_selection\\_search.py:761: DeprecationWarning:\n",
      "\n",
      "The grid_scores_ attribute was deprecated in version 0.18 in favor of the more elaborate cv_results_ attribute. The grid_scores_ attribute will not be available from 0.20\n",
      "\n"
     ]
    },
    {
     "data": {
      "text/plain": [
       "([mean: 0.15947, std: 0.20918, params: {'max_depth': 4, 'min_child_weight': 1},\n",
       "  mean: 0.15947, std: 0.20918, params: {'max_depth': 4, 'min_child_weight': 3},\n",
       "  mean: 0.15947, std: 0.20918, params: {'max_depth': 4, 'min_child_weight': 5},\n",
       "  mean: 0.14279, std: 0.23597, params: {'max_depth': 6, 'min_child_weight': 1},\n",
       "  mean: 0.14279, std: 0.23597, params: {'max_depth': 6, 'min_child_weight': 3},\n",
       "  mean: 0.14279, std: 0.23597, params: {'max_depth': 6, 'min_child_weight': 5},\n",
       "  mean: 0.09917, std: 0.28878, params: {'max_depth': 8, 'min_child_weight': 1},\n",
       "  mean: 0.09917, std: 0.28878, params: {'max_depth': 8, 'min_child_weight': 3},\n",
       "  mean: 0.09917, std: 0.28878, params: {'max_depth': 8, 'min_child_weight': 5}],\n",
       " {'max_depth': 4, 'min_child_weight': 1},\n",
       " 0.15946522610564914)"
      ]
     },
     "execution_count": 326,
     "metadata": {},
     "output_type": "execute_result"
    }
   ],
   "source": [
    "gsearch1.fit(ecdc[req_list],ecdc[target])\n",
    "gsearch1.grid_scores_, gsearch1.best_params_, gsearch1.best_score_"
   ]
  },
  {
   "cell_type": "code",
   "execution_count": 328,
   "metadata": {},
   "outputs": [
    {
     "name": "stderr",
     "output_type": "stream",
     "text": [
      "C:\\Users\\GadikatlaV\\AppData\\Local\\Continuum\\anaconda3\\lib\\site-packages\\lightgbm\\engine.py:503: UserWarning:\n",
      "\n",
      "Found `n_estimators` in params. Will use it instead of argument\n",
      "\n",
      "C:\\Users\\GadikatlaV\\AppData\\Local\\Continuum\\anaconda3\\lib\\site-packages\\lightgbm\\basic.py:842: UserWarning:\n",
      "\n",
      "silent keyword has been found in `params` and will be ignored.\n",
      "Please use silent argument of the Dataset constructor to pass this parameter.\n",
      "\n",
      "C:\\Users\\GadikatlaV\\AppData\\Local\\Continuum\\anaconda3\\lib\\site-packages\\sklearn\\model_selection\\_split.py:605: Warning:\n",
      "\n",
      "The least populated class in y has only 1 members, which is too few. The minimum number of members in any class cannot be less than n_splits=5.\n",
      "\n"
     ]
    },
    {
     "name": "stdout",
     "output_type": "stream",
     "text": [
      "     rmse-mean    rmse-stdv\n",
      "0   801.434623  1123.193820\n",
      "1   774.090065  1115.679474\n",
      "2   749.712483  1109.332629\n",
      "3   727.882125  1104.022631\n",
      "4   708.840865  1099.319513\n",
      "5   691.463494  1095.529124\n",
      "6   676.435337  1092.368644\n",
      "7   664.700810  1091.202337\n",
      "8   652.029868  1088.210030\n",
      "9   643.560751  1086.473370\n",
      "10  633.623015  1084.952205\n",
      "11  624.857416  1083.595067\n",
      "12  616.485483  1081.603376\n",
      "13  609.020017  1079.867117\n",
      "14  602.476710  1078.291369\n",
      "15  596.713149  1076.760147\n",
      "16  591.893749  1075.994962\n",
      "17  587.189660  1074.779894\n",
      "18  583.105114  1074.083537\n",
      "19  580.861334  1072.777325\n",
      "20  577.450945  1071.668121\n",
      "21  574.549647  1070.604695\n",
      "22  573.098467  1069.397052\n",
      "23  570.907553  1068.773314\n",
      "24  568.811951  1068.178973\n",
      "25  566.977787  1067.609480\n",
      "26  566.489116  1067.793995\n",
      "27  564.832603  1067.223939\n",
      "28  563.252135  1066.440856\n",
      "29  562.051070  1065.835118\n",
      "..         ...          ...\n",
      "36  555.813454  1062.590744\n",
      "37  555.558375  1062.134950\n",
      "38  554.895125  1061.709405\n",
      "39  553.964330  1060.549198\n",
      "40  553.272122  1060.139044\n",
      "41  552.904087  1059.766025\n",
      "42  552.657766  1059.439777\n",
      "43  552.220666  1059.096669\n",
      "44  551.803257  1058.810912\n",
      "45  551.372875  1058.636397\n",
      "46  551.170970  1058.371125\n",
      "47  550.730244  1058.135999\n",
      "48  550.484865  1057.927236\n",
      "49  550.655178  1058.808551\n",
      "50  550.370933  1058.527108\n",
      "51  550.058353  1058.201690\n",
      "52  549.779006  1057.953416\n",
      "53  549.486683  1057.710772\n",
      "54  549.233861  1057.396346\n",
      "55  548.718557  1056.671259\n",
      "56  548.745642  1056.367140\n",
      "57  549.109709  1057.170747\n",
      "58  548.993520  1056.860394\n",
      "59  548.785878  1056.621562\n",
      "60  548.662119  1056.326656\n",
      "61  548.903382  1056.892808\n",
      "62  548.759188  1056.608571\n",
      "63  548.560165  1056.387631\n",
      "64  548.528324  1056.057091\n",
      "65  548.341728  1055.879972\n",
      "\n",
      "[66 rows x 2 columns]\n",
      "\n",
      "Model Report\n",
      "R2 (Train): 0.872523382779\n",
      "     Value                   Feature\n",
      "0        0      continentexp_America\n",
      "1        0      continentexp_Oceania\n",
      "2        0        continentexp_Other\n",
      "3        0  countryterritorycode_ABW\n",
      "4        0  countryterritorycode_AFG\n",
      "5        0  countryterritorycode_AGO\n",
      "6        0  countryterritorycode_ALB\n",
      "7        0  countryterritorycode_AND\n",
      "8        0  countryterritorycode_ARE\n",
      "9        0  countryterritorycode_ARG\n",
      "10       0  countryterritorycode_ARM\n",
      "11       0  countryterritorycode_ATG\n",
      "12       0  countryterritorycode_AUS\n",
      "13       0  countryterritorycode_AUT\n",
      "14       0  countryterritorycode_AZE\n",
      "15       0  countryterritorycode_BDI\n",
      "16       0  countryterritorycode_BEN\n",
      "17       0  countryterritorycode_BFA\n",
      "18       0  countryterritorycode_BGD\n",
      "19       0  countryterritorycode_BGR\n",
      "20       0  countryterritorycode_BHR\n",
      "21       0  countryterritorycode_BHS\n",
      "22       0  countryterritorycode_BIH\n",
      "23       0  countryterritorycode_BLR\n",
      "24       0  countryterritorycode_BLZ\n",
      "25       0  countryterritorycode_BMU\n",
      "26       0  countryterritorycode_BOL\n",
      "27       0  countryterritorycode_BRB\n",
      "28       0  countryterritorycode_BRN\n",
      "29       0  countryterritorycode_BTN\n",
      "..     ...                       ...\n",
      "389      3                  geoid_CH\n",
      "390      3                  geoid_SA\n",
      "391      4  countryterritorycode_BRA\n",
      "392      4  countryterritorycode_ESP\n",
      "393      4  countryterritorycode_ITA\n",
      "394      4                  geoid_BE\n",
      "395      4                  geoid_EC\n",
      "396      4                  geoid_MM\n",
      "397      4                  geoid_NL\n",
      "398      4                  geoid_QA\n",
      "399      4                      year\n",
      "400      6         continentexp_Asia\n",
      "401      6                  geoid_CN\n",
      "402      6                  geoid_DE\n",
      "403      6                  geoid_PE\n",
      "404      6                  geoid_TH\n",
      "405      7  countryterritorycode_USA\n",
      "406      7                  geoid_BR\n",
      "407      7                  geoid_UK\n",
      "408      9                  geoid_CA\n",
      "409     10       continentexp_Africa\n",
      "410     10                  geoid_IT\n",
      "411     11                  geoid_IR\n",
      "412     13                  geoid_ES\n",
      "413     14                  geoid_TR\n",
      "414     20       continentexp_Europe\n",
      "415     41                  geoid_US\n",
      "416     98               popdata2018\n",
      "417    121                       day\n",
      "418    181                     month\n",
      "\n",
      "[419 rows x 2 columns]\n"
     ]
    },
    {
     "data": {
      "image/png": "[encoded data removed]",
      "text/plain": [
       "<Figure size 1440x720 with 1 Axes>"
      ]
     },
     "metadata": {},
     "output_type": "display_data"
    }
   ],
   "source": [
    "modelfit(gsearch1.best_estimator_, ecdc, req_list)"
   ]
  },
  {
   "cell_type": "code",
   "execution_count": 329,
   "metadata": {
    "collapsed": true
   },
   "outputs": [],
   "source": [
    "import pickle\n",
    "file_name = \"lgb_reg.pkl\""
   ]
  },
  {
   "cell_type": "code",
   "execution_count": 330,
   "metadata": {
    "collapsed": true
   },
   "outputs": [],
   "source": [
    "\n",
    "# save\n",
    "pickle.dump(gsearch1.best_estimator_, open(file_name, \"wb\"))"
   ]
  },
  {
   "cell_type": "code",
   "execution_count": 331,
   "metadata": {
    "collapsed": true
   },
   "outputs": [],
   "source": [
    "\n",
    "# load\n",
    "xgb_model_loaded = pickle.load(open(file_name, \"rb\"))"
   ]
  },
  {
   "cell_type": "code",
   "execution_count": 332,
   "metadata": {},
   "outputs": [
    {
     "data": {
      "text/plain": [
       "array([ 158.58521131,  158.58521131,  158.58521131, ...,    9.33990409,\n",
       "          9.33990409,    9.33990409])"
      ]
     },
     "execution_count": 332,
     "metadata": {},
     "output_type": "execute_result"
    }
   ],
   "source": [
    "xgb_model_loaded.predict(ecdc_x)"
   ]
  },
  {
   "cell_type": "code",
   "execution_count": null,
   "metadata": {
    "collapsed": true
   },
   "outputs": [],
   "source": []
  },
  {
   "cell_type": "code",
   "execution_count": null,
   "metadata": {
    "collapsed": true
   },
   "outputs": [],
   "source": []
  },
  {
   "cell_type": "code",
   "execution_count": null,
   "metadata": {
    "collapsed": true
   },
   "outputs": [],
   "source": []
  },
  {
   "cell_type": "code",
   "execution_count": 209,
   "metadata": {},
   "outputs": [],
   "source": [
    "lgbh = lgb.LGBMRegressor(seed=0, params=lgb_opt_params )"
   ]
  },
  {
   "cell_type": "code",
   "execution_count": 217,
   "metadata": {
    "scrolled": true
   },
   "outputs": [
    {
     "name": "stderr",
     "output_type": "stream",
     "text": [
      "C:\\Users\\GadikatlaV\\AppData\\Local\\Continuum\\anaconda3\\lib\\site-packages\\sklearn\\model_selection\\_split.py:605: Warning:\n",
      "\n",
      "The least populated class in y has only 1 members, which is too few. The minimum number of members in any class cannot be less than n_splits=5.\n",
      "\n"
     ]
    }
   ],
   "source": [
    "# Optimizo parametro n_estimators\n",
    "cvlgm = lgb.cv(lgb_opt_params,lgb.Dataset(ecdc,label=ecdc_y),stratified=True,\n",
    "               verbose_eval=False,early_stopping_rounds=70,num_boost_round=1000,seed=0,)"
   ]
  },
  {
   "cell_type": "code",
   "execution_count": 214,
   "metadata": {
    "collapsed": true
   },
   "outputs": [],
   "source": [
    "lgbParams = lgb_opt_params.copy()"
   ]
  },
  {
   "cell_type": "code",
   "execution_count": 219,
   "metadata": {
    "collapsed": true
   },
   "outputs": [],
   "source": [
    "lgbParams['n_estimators']=len(cvlgm['rmse-mean'])"
   ]
  },
  {
   "cell_type": "code",
   "execution_count": 222,
   "metadata": {
    "scrolled": true
   },
   "outputs": [
    {
     "data": {
      "text/plain": [
       "LGBMRegressor(bagging_fraction=0.8, bagging_seed=2018, boosting_type='gbdt',\n",
       "       class_weight=None, colsample_bytree=1.0, feature_fraction=0.6,\n",
       "       importance_type='split', learning_rate=0.01, max_depth=-1,\n",
       "       metric='rmse', min_child_samples=20, min_child_weight=0.001,\n",
       "       min_split_gain=0.0, n_estimators=999, n_jobs=-1, num_leaves=40,\n",
       "       objective='regression',\n",
       "       params={'learning_rate': 0.01, 'boosting_type': 'gbdt', 'objective': 'regression', 'metric': 'rmse', 'num_leaves': 40, 'bagging_fraction': 0.8, 'feature_fraction': 0.6, 'reg_alpha': 2, 'reg_lambda': 0.1, 'bagging_seed': 2018, 'verbosity': -1},\n",
       "       random_state=None, reg_alpha=2, reg_lambda=0.1, seed=0, silent=True,\n",
       "       subsample=1.0, subsample_for_bin=200000, subsample_freq=0,\n",
       "       verbosity=-1)"
      ]
     },
     "execution_count": 222,
     "metadata": {},
     "output_type": "execute_result"
    }
   ],
   "source": [
    "lgbh.set_params(**lgbParams)"
   ]
  },
  {
   "cell_type": "code",
   "execution_count": 223,
   "metadata": {},
   "outputs": [
    {
     "name": "stdout",
     "output_type": "stream",
     "text": [
      "LGB rmse: 565.82381  rmse-stdv: 1051.280772  best It: 999\n"
     ]
    }
   ],
   "source": [
    "print(\"LGB rmse:\",round(cvlgm['rmse-mean'][-1],5),\" rmse-stdv:\",round(cvlgm['rmse-stdv'][-1],6), \" best It:\",len(cvlgm['rmse-mean']))"
   ]
  },
  {
   "cell_type": "code",
   "execution_count": 224,
   "metadata": {
    "collapsed": true
   },
   "outputs": [],
   "source": [
    "kf = KFold(n_splits=5, shuffle=True, random_state=0)"
   ]
  },
  {
   "cell_type": "code",
   "execution_count": 225,
   "metadata": {},
   "outputs": [
    {
     "ename": "AttributeError",
     "evalue": "'LGBMRegressor' object has no attribute 'get_cv_score'",
     "output_type": "error",
     "traceback": [
      "\u001b[1;31m---------------------------------------------------------------------------\u001b[0m",
      "\u001b[1;31mAttributeError\u001b[0m                            Traceback (most recent call last)",
      "\u001b[1;32m<ipython-input-225-1ef2d7206966>\u001b[0m in \u001b[0;36m<module>\u001b[1;34m()\u001b[0m\n\u001b[1;32m----> 1\u001b[1;33m \u001b[0mcvlgm\u001b[0m \u001b[1;33m=\u001b[0m \u001b[0mlgbh\u001b[0m\u001b[1;33m.\u001b[0m\u001b[0mget_cv_score\u001b[0m\u001b[1;33m(\u001b[0m\u001b[0mecdc\u001b[0m\u001b[1;33m,\u001b[0m \u001b[0mecdc_y\u001b[0m\u001b[1;33m,\u001b[0m \u001b[0mkf\u001b[0m\u001b[1;33m)\u001b[0m\u001b[1;33m\u001b[0m\u001b[0m\n\u001b[0m",
      "\u001b[1;31mAttributeError\u001b[0m: 'LGBMRegressor' object has no attribute 'get_cv_score'"
     ]
    }
   ],
   "source": [
    "cvlgm = lgbh.get_"
   ]
  },
  {
   "cell_type": "code",
   "execution_count": null,
   "metadata": {
    "collapsed": true
   },
   "outputs": [],
   "source": [
    "\n",
    "\n",
    "lgbParams = lgb_opt_params.copy()\n",
    "\n",
    "categs = lgbParams.pop('categorical_column', None)\n",
    "lgbh.clf.set_params(**lgbParams)\n",
    "print(\"LGB auc:\",round(cvlgm['auc-mean'][-1],5),\" auc-stdv:\",round(cvlgm['auc-stdv'][-1],6), \" best It:\",len(cvlgm['auc-mean']))\n",
    "\n",
    "kf = KFold(n_splits=5, shuffle=True, random_state=SEED)\n",
    "cvlgm = lgbh.get_cv_score(ecdc, ecdc_y, kf)\n",
    "print(cvlgm.mean())\n",
    "cvPred = lgbh.cross_val_predict(train, Ytrain, kf,method='predict_proba')\n",
    "cvPred= cvPred[:,1]\n",
    "average_precision = metrics.average_precision_score(Ytrain, cvPred)\n",
    "precision, recall, thresholds = metrics.precision_recall_curve(Ytrain, cvPred)\n",
    "#for i in np.arange(0.20, 0.40, 0.01):\n",
    "#    print(i,' - ',metrics.f1_score(Ytrain, np.where(cvPred>i,1,0)))\n",
    "    #max 0.29\n",
    "    \n",
    "# Entreno modelo\n",
    "lgbh.clf.fit(train, Ytrain)\n",
    "# Realizo predicciones\n",
    "pModelLGB = lgbh.clf.predict_proba(test)[:,1]\n",
    "\n",
    "lgbh.clf.fit(train, Ytrain)\n",
    "# Realizo predicciones\n",
    "pModelLGB = lgbh.clf.predict_proba(test)[:,1]\n",
    "\n",
    "thresholdTrain=0.29\n",
    "posTest=int(len(pModelLGB)*cvPred[cvPred>thresholdTrain].shape[0]/cvPred.shape[0])\n",
    "thresholdTest = pd.Series(pModelLGB).sort_values(ascending=False).iloc[posTest]\n"
   ]
  },
  {
   "cell_type": "code",
   "execution_count": null,
   "metadata": {
    "collapsed": true
   },
   "outputs": [],
   "source": []
  },
  {
   "cell_type": "code",
   "execution_count": null,
   "metadata": {
    "collapsed": true
   },
   "outputs": [],
   "source": []
  },
  {
   "cell_type": "code",
   "execution_count": null,
   "metadata": {
    "collapsed": true
   },
   "outputs": [],
   "source": []
  }
 ],
 "metadata": {
  "kernelspec": {
   "display_name": "Python 3",
   "language": "python",
   "name": "python3"
  },
  "language_info": {
   "codemirror_mode": {
    "name": "ipython",
    "version": 3
   },
   "file_extension": ".py",
   "mimetype": "text/x-python",
   "name": "python",
   "nbconvert_exporter": "python",
   "pygments_lexer": "ipython3",
   "version": "3.6.3"
  }
 },
 "nbformat": 4,
 "nbformat_minor": 2
}
